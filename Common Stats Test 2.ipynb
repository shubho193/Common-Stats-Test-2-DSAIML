{
 "cells": [
  {
   "cell_type": "code",
   "execution_count": 2,
   "id": "6199ae32-903a-4180-87a3-fa25d302f912",
   "metadata": {},
   "outputs": [],
   "source": [
    "#Importing the necessary files\n",
    "import numpy as np\n",
    "import pandas as pd\n",
    "import matplotlib.pyplot as plt\n",
    "import seaborn as sns\n",
    "import scipy.stats as stats\n",
    "from statsmodels.formula.api import ols\n",
    "from statsmodels.stats.anova import _get_covariance,anova_lm"
   ]
  },
  {
   "cell_type": "code",
   "execution_count": 3,
   "id": "c9db5411-80c3-40b7-a21d-9a3d9970ff14",
   "metadata": {},
   "outputs": [
    {
     "data": {
      "text/html": [
       "<div>\n",
       "<style scoped>\n",
       "    .dataframe tbody tr th:only-of-type {\n",
       "        vertical-align: middle;\n",
       "    }\n",
       "\n",
       "    .dataframe tbody tr th {\n",
       "        vertical-align: top;\n",
       "    }\n",
       "\n",
       "    .dataframe thead th {\n",
       "        text-align: right;\n",
       "    }\n",
       "</style>\n",
       "<table border=\"1\" class=\"dataframe\">\n",
       "  <thead>\n",
       "    <tr style=\"text-align: right;\">\n",
       "      <th></th>\n",
       "      <th>diet</th>\n",
       "      <th>preweight</th>\n",
       "      <th>weight6weeks</th>\n",
       "      <th>age</th>\n",
       "    </tr>\n",
       "  </thead>\n",
       "  <tbody>\n",
       "    <tr>\n",
       "      <th>0</th>\n",
       "      <td>B</td>\n",
       "      <td>60</td>\n",
       "      <td>60.0</td>\n",
       "      <td>45</td>\n",
       "    </tr>\n",
       "    <tr>\n",
       "      <th>1</th>\n",
       "      <td>B</td>\n",
       "      <td>103</td>\n",
       "      <td>103.0</td>\n",
       "      <td>38</td>\n",
       "    </tr>\n",
       "    <tr>\n",
       "      <th>2</th>\n",
       "      <td>A</td>\n",
       "      <td>58</td>\n",
       "      <td>54.2</td>\n",
       "      <td>31</td>\n",
       "    </tr>\n",
       "    <tr>\n",
       "      <th>3</th>\n",
       "      <td>A</td>\n",
       "      <td>60</td>\n",
       "      <td>54.0</td>\n",
       "      <td>18</td>\n",
       "    </tr>\n",
       "    <tr>\n",
       "      <th>4</th>\n",
       "      <td>A</td>\n",
       "      <td>64</td>\n",
       "      <td>63.3</td>\n",
       "      <td>35</td>\n",
       "    </tr>\n",
       "    <tr>\n",
       "      <th>...</th>\n",
       "      <td>...</td>\n",
       "      <td>...</td>\n",
       "      <td>...</td>\n",
       "      <td>...</td>\n",
       "    </tr>\n",
       "    <tr>\n",
       "      <th>73</th>\n",
       "      <td>C</td>\n",
       "      <td>83</td>\n",
       "      <td>80.2</td>\n",
       "      <td>32</td>\n",
       "    </tr>\n",
       "    <tr>\n",
       "      <th>74</th>\n",
       "      <td>C</td>\n",
       "      <td>84</td>\n",
       "      <td>79.9</td>\n",
       "      <td>40</td>\n",
       "    </tr>\n",
       "    <tr>\n",
       "      <th>75</th>\n",
       "      <td>C</td>\n",
       "      <td>85</td>\n",
       "      <td>79.7</td>\n",
       "      <td>31</td>\n",
       "    </tr>\n",
       "    <tr>\n",
       "      <th>76</th>\n",
       "      <td>C</td>\n",
       "      <td>87</td>\n",
       "      <td>77.8</td>\n",
       "      <td>42</td>\n",
       "    </tr>\n",
       "    <tr>\n",
       "      <th>77</th>\n",
       "      <td>C</td>\n",
       "      <td>88</td>\n",
       "      <td>81.9</td>\n",
       "      <td>46</td>\n",
       "    </tr>\n",
       "  </tbody>\n",
       "</table>\n",
       "<p>78 rows × 4 columns</p>\n",
       "</div>"
      ],
      "text/plain": [
       "   diet  preweight  weight6weeks  age\n",
       "0     B         60          60.0   45\n",
       "1     B        103         103.0   38\n",
       "2     A         58          54.2   31\n",
       "3     A         60          54.0   18\n",
       "4     A         64          63.3   35\n",
       "..  ...        ...           ...  ...\n",
       "73    C         83          80.2   32\n",
       "74    C         84          79.9   40\n",
       "75    C         85          79.7   31\n",
       "76    C         87          77.8   42\n",
       "77    C         88          81.9   46\n",
       "\n",
       "[78 rows x 4 columns]"
      ]
     },
     "execution_count": 3,
     "metadata": {},
     "output_type": "execute_result"
    }
   ],
   "source": [
    "#Loading Dataset\n",
    "data=pd.read_csv('commonstats.csv')\n",
    "data"
   ]
  },
  {
   "cell_type": "code",
   "execution_count": 4,
   "id": "45ad44d3-a9e6-434a-87b9-52435cec7215",
   "metadata": {},
   "outputs": [],
   "source": [
    "df=data.copy()"
   ]
  },
  {
   "cell_type": "markdown",
   "id": "df340cb2-f4f3-436e-adeb-53aeaee9b69d",
   "metadata": {},
   "source": [
    "#### Display first few rows of dataset"
   ]
  },
  {
   "cell_type": "code",
   "execution_count": 5,
   "id": "a5af766a-2871-47b2-b5c8-ecac6dc842d8",
   "metadata": {},
   "outputs": [
    {
     "data": {
      "text/html": [
       "<div>\n",
       "<style scoped>\n",
       "    .dataframe tbody tr th:only-of-type {\n",
       "        vertical-align: middle;\n",
       "    }\n",
       "\n",
       "    .dataframe tbody tr th {\n",
       "        vertical-align: top;\n",
       "    }\n",
       "\n",
       "    .dataframe thead th {\n",
       "        text-align: right;\n",
       "    }\n",
       "</style>\n",
       "<table border=\"1\" class=\"dataframe\">\n",
       "  <thead>\n",
       "    <tr style=\"text-align: right;\">\n",
       "      <th></th>\n",
       "      <th>diet</th>\n",
       "      <th>preweight</th>\n",
       "      <th>weight6weeks</th>\n",
       "      <th>age</th>\n",
       "    </tr>\n",
       "  </thead>\n",
       "  <tbody>\n",
       "    <tr>\n",
       "      <th>0</th>\n",
       "      <td>B</td>\n",
       "      <td>60</td>\n",
       "      <td>60.0</td>\n",
       "      <td>45</td>\n",
       "    </tr>\n",
       "    <tr>\n",
       "      <th>1</th>\n",
       "      <td>B</td>\n",
       "      <td>103</td>\n",
       "      <td>103.0</td>\n",
       "      <td>38</td>\n",
       "    </tr>\n",
       "    <tr>\n",
       "      <th>2</th>\n",
       "      <td>A</td>\n",
       "      <td>58</td>\n",
       "      <td>54.2</td>\n",
       "      <td>31</td>\n",
       "    </tr>\n",
       "    <tr>\n",
       "      <th>3</th>\n",
       "      <td>A</td>\n",
       "      <td>60</td>\n",
       "      <td>54.0</td>\n",
       "      <td>18</td>\n",
       "    </tr>\n",
       "    <tr>\n",
       "      <th>4</th>\n",
       "      <td>A</td>\n",
       "      <td>64</td>\n",
       "      <td>63.3</td>\n",
       "      <td>35</td>\n",
       "    </tr>\n",
       "  </tbody>\n",
       "</table>\n",
       "</div>"
      ],
      "text/plain": [
       "  diet  preweight  weight6weeks  age\n",
       "0    B         60          60.0   45\n",
       "1    B        103         103.0   38\n",
       "2    A         58          54.2   31\n",
       "3    A         60          54.0   18\n",
       "4    A         64          63.3   35"
      ]
     },
     "execution_count": 5,
     "metadata": {},
     "output_type": "execute_result"
    }
   ],
   "source": [
    "#Dsiplay first few rows of dataset\n",
    "df.head()"
   ]
  },
  {
   "cell_type": "markdown",
   "id": "db3af564-097c-4266-a335-6214d103c99d",
   "metadata": {},
   "source": [
    "##### The dataset contains diet type,preweight,weight after 6 weeks for one person and age"
   ]
  },
  {
   "cell_type": "markdown",
   "id": "d76a1ccd-35c9-455e-85fa-c5386145775c",
   "metadata": {},
   "source": [
    "#### Checking the shape of dataset"
   ]
  },
  {
   "cell_type": "code",
   "execution_count": 6,
   "id": "10a0440c-1a88-4e87-8357-9552a9767875",
   "metadata": {},
   "outputs": [
    {
     "data": {
      "text/plain": [
       "(78, 4)"
      ]
     },
     "execution_count": 6,
     "metadata": {},
     "output_type": "execute_result"
    }
   ],
   "source": [
    "df.shape"
   ]
  },
  {
   "cell_type": "markdown",
   "id": "75aec356-e085-4079-9a7d-846f0b9df707",
   "metadata": {},
   "source": [
    "##### The dataset contains 78 rows and 4 columns"
   ]
  },
  {
   "cell_type": "markdown",
   "id": "85f13cfd-5f05-4e6f-b9bd-eb977fef6c8c",
   "metadata": {},
   "source": [
    "#### Checking the data types of the columns for the dataset"
   ]
  },
  {
   "cell_type": "code",
   "execution_count": 7,
   "id": "b34d3103-7501-4a36-a16c-fab3aed333a9",
   "metadata": {},
   "outputs": [
    {
     "name": "stdout",
     "output_type": "stream",
     "text": [
      "<class 'pandas.core.frame.DataFrame'>\n",
      "RangeIndex: 78 entries, 0 to 77\n",
      "Data columns (total 4 columns):\n",
      " #   Column        Non-Null Count  Dtype  \n",
      "---  ------        --------------  -----  \n",
      " 0   diet          78 non-null     object \n",
      " 1   preweight     78 non-null     int64  \n",
      " 2   weight6weeks  78 non-null     float64\n",
      " 3   age           78 non-null     int64  \n",
      "dtypes: float64(1), int64(2), object(1)\n",
      "memory usage: 2.6+ KB\n"
     ]
    }
   ],
   "source": [
    "df.info()"
   ]
  },
  {
   "cell_type": "markdown",
   "id": "6d1d8f05-bed8-43e2-b934-86955a8df635",
   "metadata": {},
   "source": [
    "##### •\tThe diet column is categorical. While, preweight , weight6weeks and age are numerical.\n",
    "##### •\tThere are no missing values in the dataset"
   ]
  },
  {
   "cell_type": "markdown",
   "id": "bb299785-2002-43d1-90f0-46254a0eb329",
   "metadata": {},
   "source": [
    "#### Statistical summary of dataset"
   ]
  },
  {
   "cell_type": "code",
   "execution_count": 8,
   "id": "d604b888-f562-4baa-804d-6c3144c41505",
   "metadata": {},
   "outputs": [
    {
     "data": {
      "text/html": [
       "<div>\n",
       "<style scoped>\n",
       "    .dataframe tbody tr th:only-of-type {\n",
       "        vertical-align: middle;\n",
       "    }\n",
       "\n",
       "    .dataframe tbody tr th {\n",
       "        vertical-align: top;\n",
       "    }\n",
       "\n",
       "    .dataframe thead th {\n",
       "        text-align: right;\n",
       "    }\n",
       "</style>\n",
       "<table border=\"1\" class=\"dataframe\">\n",
       "  <thead>\n",
       "    <tr style=\"text-align: right;\">\n",
       "      <th></th>\n",
       "      <th>preweight</th>\n",
       "      <th>weight6weeks</th>\n",
       "      <th>age</th>\n",
       "    </tr>\n",
       "  </thead>\n",
       "  <tbody>\n",
       "    <tr>\n",
       "      <th>count</th>\n",
       "      <td>78.000000</td>\n",
       "      <td>78.000000</td>\n",
       "      <td>78.000000</td>\n",
       "    </tr>\n",
       "    <tr>\n",
       "      <th>mean</th>\n",
       "      <td>72.525641</td>\n",
       "      <td>68.680769</td>\n",
       "      <td>34.025641</td>\n",
       "    </tr>\n",
       "    <tr>\n",
       "      <th>std</th>\n",
       "      <td>8.723344</td>\n",
       "      <td>8.924504</td>\n",
       "      <td>8.543205</td>\n",
       "    </tr>\n",
       "    <tr>\n",
       "      <th>min</th>\n",
       "      <td>58.000000</td>\n",
       "      <td>53.000000</td>\n",
       "      <td>18.000000</td>\n",
       "    </tr>\n",
       "    <tr>\n",
       "      <th>25%</th>\n",
       "      <td>66.000000</td>\n",
       "      <td>61.850000</td>\n",
       "      <td>28.250000</td>\n",
       "    </tr>\n",
       "    <tr>\n",
       "      <th>50%</th>\n",
       "      <td>72.000000</td>\n",
       "      <td>68.950000</td>\n",
       "      <td>34.000000</td>\n",
       "    </tr>\n",
       "    <tr>\n",
       "      <th>75%</th>\n",
       "      <td>78.000000</td>\n",
       "      <td>73.825000</td>\n",
       "      <td>39.000000</td>\n",
       "    </tr>\n",
       "    <tr>\n",
       "      <th>max</th>\n",
       "      <td>103.000000</td>\n",
       "      <td>103.000000</td>\n",
       "      <td>54.000000</td>\n",
       "    </tr>\n",
       "  </tbody>\n",
       "</table>\n",
       "</div>"
      ],
      "text/plain": [
       "        preweight  weight6weeks        age\n",
       "count   78.000000     78.000000  78.000000\n",
       "mean    72.525641     68.680769  34.025641\n",
       "std      8.723344      8.924504   8.543205\n",
       "min     58.000000     53.000000  18.000000\n",
       "25%     66.000000     61.850000  28.250000\n",
       "50%     72.000000     68.950000  34.000000\n",
       "75%     78.000000     73.825000  39.000000\n",
       "max    103.000000    103.000000  54.000000"
      ]
     },
     "execution_count": 8,
     "metadata": {},
     "output_type": "execute_result"
    }
   ],
   "source": [
    "df.describe()"
   ]
  },
  {
   "cell_type": "markdown",
   "id": "40408e59-eac3-400a-b260-8cb09a7f5b01",
   "metadata": {},
   "source": [
    "##### •\tThe average weight before any diet plan is 72.53 kg, while the average weight after 6 weeks of a diet plan is 68.68 kg. Overall, taking a diet has reduced the average weight.\n",
    "##### \tThe variation in the weights is very similar before and after taking a diet.\n",
    "\n"
   ]
  },
  {
   "cell_type": "markdown",
   "id": "f23088b4-85b1-4f32-b93e-debd3c22b5b8",
   "metadata": {},
   "source": [
    "#### Exploratory Data Analysis"
   ]
  },
  {
   "cell_type": "markdown",
   "id": "eaf8cbb9-a239-48ab-b8c2-d76da9ad112b",
   "metadata": {},
   "source": [
    "##### Value counts of diffrent types of diet"
   ]
  },
  {
   "cell_type": "code",
   "execution_count": 9,
   "id": "d050ebf3-18fa-4136-864b-68c89b5c1030",
   "metadata": {},
   "outputs": [
    {
     "data": {
      "text/plain": [
       "diet\n",
       "B    27\n",
       "C    27\n",
       "A    24\n",
       "Name: count, dtype: int64"
      ]
     },
     "execution_count": 9,
     "metadata": {},
     "output_type": "execute_result"
    }
   ],
   "source": [
    "df.diet.value_counts()"
   ]
  },
  {
   "cell_type": "markdown",
   "id": "1c5dadae-cfbf-4d1c-931d-54bef064cfb2",
   "metadata": {},
   "source": [
    "##### In the sample 27 people each took B and C while 24 took A"
   ]
  },
  {
   "cell_type": "markdown",
   "id": "c3482992-2d36-4f2e-95c6-8c394671014c",
   "metadata": {},
   "source": [
    "##### Creating a new column 'weight loss' and 'age category'"
   ]
  },
  {
   "cell_type": "code",
   "execution_count": 10,
   "id": "8a759654-83bd-4230-8a39-328cc504c94a",
   "metadata": {},
   "outputs": [
    {
     "data": {
      "text/html": [
       "<div>\n",
       "<style scoped>\n",
       "    .dataframe tbody tr th:only-of-type {\n",
       "        vertical-align: middle;\n",
       "    }\n",
       "\n",
       "    .dataframe tbody tr th {\n",
       "        vertical-align: top;\n",
       "    }\n",
       "\n",
       "    .dataframe thead th {\n",
       "        text-align: right;\n",
       "    }\n",
       "</style>\n",
       "<table border=\"1\" class=\"dataframe\">\n",
       "  <thead>\n",
       "    <tr style=\"text-align: right;\">\n",
       "      <th></th>\n",
       "      <th>diet</th>\n",
       "      <th>preweight</th>\n",
       "      <th>weight6weeks</th>\n",
       "      <th>age</th>\n",
       "      <th>weight_loss</th>\n",
       "      <th>age_category</th>\n",
       "    </tr>\n",
       "  </thead>\n",
       "  <tbody>\n",
       "    <tr>\n",
       "      <th>0</th>\n",
       "      <td>B</td>\n",
       "      <td>60</td>\n",
       "      <td>60.0</td>\n",
       "      <td>45</td>\n",
       "      <td>0.0</td>\n",
       "      <td>40+</td>\n",
       "    </tr>\n",
       "    <tr>\n",
       "      <th>1</th>\n",
       "      <td>B</td>\n",
       "      <td>103</td>\n",
       "      <td>103.0</td>\n",
       "      <td>38</td>\n",
       "      <td>0.0</td>\n",
       "      <td>25-40</td>\n",
       "    </tr>\n",
       "    <tr>\n",
       "      <th>2</th>\n",
       "      <td>A</td>\n",
       "      <td>58</td>\n",
       "      <td>54.2</td>\n",
       "      <td>31</td>\n",
       "      <td>-3.8</td>\n",
       "      <td>25-40</td>\n",
       "    </tr>\n",
       "    <tr>\n",
       "      <th>3</th>\n",
       "      <td>A</td>\n",
       "      <td>60</td>\n",
       "      <td>54.0</td>\n",
       "      <td>18</td>\n",
       "      <td>-6.0</td>\n",
       "      <td>18-25</td>\n",
       "    </tr>\n",
       "    <tr>\n",
       "      <th>4</th>\n",
       "      <td>A</td>\n",
       "      <td>64</td>\n",
       "      <td>63.3</td>\n",
       "      <td>35</td>\n",
       "      <td>-0.7</td>\n",
       "      <td>25-40</td>\n",
       "    </tr>\n",
       "  </tbody>\n",
       "</table>\n",
       "</div>"
      ],
      "text/plain": [
       "  diet  preweight  weight6weeks  age  weight_loss age_category\n",
       "0    B         60          60.0   45          0.0          40+\n",
       "1    B        103         103.0   38          0.0        25-40\n",
       "2    A         58          54.2   31         -3.8        25-40\n",
       "3    A         60          54.0   18         -6.0        18-25\n",
       "4    A         64          63.3   35         -0.7        25-40"
      ]
     },
     "execution_count": 10,
     "metadata": {},
     "output_type": "execute_result"
    }
   ],
   "source": [
    "df['weight_loss']=df['weight6weeks']-df['preweight']\n",
    "def  category(age):\n",
    "    if age>=18 and age<25:\n",
    "        return \"18-25\"\n",
    "    elif age>=25 and age<40:\n",
    "        return \"25-40\"\n",
    "    else :\n",
    "        return \"40+\"\n",
    "df['age_category']=df['age'].apply(category)\n",
    "df.head()"
   ]
  },
  {
   "cell_type": "markdown",
   "id": "618995d7-eb7f-4ebf-9374-c14c510eb8a0",
   "metadata": {},
   "source": [
    "##### Negative value indicates the effectivenss of diet in decreasing weight after 6 weeks"
   ]
  },
  {
   "cell_type": "markdown",
   "id": "7a53d1ab-4b9b-4fe9-9c1a-bd27b23188bd",
   "metadata": {},
   "source": [
    "##### Value counts of diffrent types of age category"
   ]
  },
  {
   "cell_type": "code",
   "execution_count": 11,
   "id": "fa5a80e1-bba9-4cb1-abb9-9642cc0582c8",
   "metadata": {},
   "outputs": [
    {
     "data": {
      "text/plain": [
       "age_category\n",
       "25-40    47\n",
       "40+      19\n",
       "18-25    12\n",
       "Name: count, dtype: int64"
      ]
     },
     "execution_count": 11,
     "metadata": {},
     "output_type": "execute_result"
    }
   ],
   "source": [
    "df.age_category.value_counts()"
   ]
  },
  {
   "cell_type": "markdown",
   "id": "a9d0fbc1-7d48-458c-97ae-d0563e563ef2",
   "metadata": {},
   "source": [
    "##### 47 are in 25-40 while 19 and 12 are in 40+ and 18-25 category"
   ]
  },
  {
   "cell_type": "markdown",
   "id": "77139e40-3119-42a0-9ec6-4d4c3f31a3c5",
   "metadata": {},
   "source": [
    "#### Check for Missing Values"
   ]
  },
  {
   "cell_type": "code",
   "execution_count": 12,
   "id": "65a7af8a-d6b1-49a9-906b-f3b0f7b82048",
   "metadata": {},
   "outputs": [
    {
     "data": {
      "text/plain": [
       "diet            0\n",
       "preweight       0\n",
       "weight6weeks    0\n",
       "age             0\n",
       "weight_loss     0\n",
       "age_category    0\n",
       "dtype: int64"
      ]
     },
     "execution_count": 12,
     "metadata": {},
     "output_type": "execute_result"
    }
   ],
   "source": [
    "df.isnull().sum()"
   ]
  },
  {
   "cell_type": "markdown",
   "id": "2f2f4e6c-c84b-4498-a7f3-28235a15815a",
   "metadata": {},
   "source": [
    "##### Check for duplicate value"
   ]
  },
  {
   "cell_type": "code",
   "execution_count": 13,
   "id": "f46fa8f0-dcdf-4ca8-a218-ba468f776739",
   "metadata": {},
   "outputs": [
    {
     "data": {
      "text/plain": [
       "0"
      ]
     },
     "execution_count": 13,
     "metadata": {},
     "output_type": "execute_result"
    }
   ],
   "source": [
    "df.duplicated().sum()"
   ]
  },
  {
   "cell_type": "markdown",
   "id": "14d6fe4c-6cc2-4198-80d2-896f08359d65",
   "metadata": {},
   "source": [
    "#### Visualize data"
   ]
  },
  {
   "cell_type": "code",
   "execution_count": 14,
   "id": "7b88178a-fed1-453e-81fe-50ca57d3a1dd",
   "metadata": {},
   "outputs": [
    {
     "data": {
      "image/png": "[encoded data removed]",
      "text/plain": [
       "<Figure size 640x480 with 1 Axes>"
      ]
     },
     "metadata": {},
     "output_type": "display_data"
    }
   ],
   "source": [
    "sns.boxplot(x='diet',y='weight_loss',data=df)\n",
    "plt.show()"
   ]
  },
  {
   "cell_type": "code",
   "execution_count": 15,
   "id": "b994cd16-7a1c-4467-9dcf-784c8a2b67e6",
   "metadata": {},
   "outputs": [
    {
     "data": {
      "image/png": "[encoded data removed]",
      "text/plain": [
       "<Figure size 640x480 with 1 Axes>"
      ]
     },
     "metadata": {},
     "output_type": "display_data"
    }
   ],
   "source": [
    "sns.boxplot(x='diet',y='weight_loss',hue='age_category',data=df)\n",
    "plt.show()"
   ]
  },
  {
   "cell_type": "markdown",
   "id": "8e063c01-e138-48fe-a9e3-4108c90fb51e",
   "metadata": {},
   "source": [
    "#### Observation:-\n",
    "##### Diffrent weight loss distribution among groups\n",
    "##### C has highest wet loss\n",
    "##### Median weight loss is very close for A and B but B has more variation as compared to A"
   ]
  },
  {
   "cell_type": "markdown",
   "id": "3d46d85d-bce1-4c41-9550-1903f327dc56",
   "metadata": {},
   "source": [
    "#### Hypothesis Testing"
   ]
  },
  {
   "cell_type": "markdown",
   "id": "2d284ebd-38c1-40c9-9e88-4fe77160ec20",
   "metadata": {},
   "source": [
    "##### Hypothesis-1"
   ]
  },
  {
   "cell_type": "markdown",
   "id": "a3a19ecf-05b3-426c-b2f9-275308b34b1f",
   "metadata": {},
   "source": [
    "##### Define Null and alternate hypothesis for One way ANOVA\n",
    "##### h0=The mean weight loses wrt to each diet category is equal\n",
    "##### h1=At least one of the mean weight losses wrt the three diet category is unequal"
   ]
  },
  {
   "cell_type": "code",
   "execution_count": 16,
   "id": "ba606cdc-4c2f-4eec-adfd-e9e56cdbe40a",
   "metadata": {},
   "outputs": [
    {
     "name": "stdout",
     "output_type": "stream",
     "text": [
      "The P-values is 0.8019888997077942\n"
     ]
    }
   ],
   "source": [
    "#Find the P value\n",
    "#Significance level is 5%\n",
    "w,pvalue=stats.shapiro(df['weight_loss'])\n",
    "print(\"The P-values is\",pvalue)"
   ]
  },
  {
   "cell_type": "markdown",
   "id": "a9ba80c4-7067-40c7-b070-6a15ece675f0",
   "metadata": {},
   "source": [
    "##### Since p-value of the test is larger than the 5% significance level, we fail to reject the null hypothesis that the response follows the normal distribution."
   ]
  },
  {
   "cell_type": "markdown",
   "id": "1b5495ba-e571-4ca8-8176-1d9a47549fed",
   "metadata": {},
   "source": [
    "##### Levene's test\n",
    "##### h0=All population variance are equal\n",
    "##### h1=At least one variance is diffrent from the rest"
   ]
  },
  {
   "cell_type": "code",
   "execution_count": 18,
   "id": "3c585496-db93-4424-b79b-d3275a58dcda",
   "metadata": {},
   "outputs": [
    {
     "name": "stdout",
     "output_type": "stream",
     "text": [
      "The P-value is 0.5376731304274011\n"
     ]
    }
   ],
   "source": [
    "# find the p-value\n",
    "statistic, p_value=stats.levene(df[df['diet']=='A']['weight_loss'],\n",
    "df[df['diet']=='B']['weight_loss'],\n",
    "df[df['diet']=='C']['weight_loss']) \n",
    "print(\"The P-value is\",p_value)"
   ]
  },
  {
   "cell_type": "markdown",
   "id": "7bdd9610-3e37-4dce-bc94-1280875bbf6c",
   "metadata": {},
   "source": [
    "##### Since the p-value is large than the 5% significance level, we fail to reject the null hypothesis of homogeneity of variances"
   ]
  },
  {
   "cell_type": "code",
   "execution_count": 19,
   "id": "c9c68a4e-7f74-45b4-8fb0-d018c108400f",
   "metadata": {},
   "outputs": [],
   "source": [
    "# create separate variables to store the weightlosses with respect to the three diet-plans \n",
    "weightloss_diet_A=df[df['diet']=='A']['weight_loss']\n",
    "weightloss_diet_B=df[df['diet']=='B']['weight_loss'] \n",
    "weightloss_diet_C=df[df['diet']=='C']['weight_loss']\n"
   ]
  },
  {
   "cell_type": "code",
   "execution_count": 21,
   "id": "74607642-2842-4deb-a453-5a78b68b842c",
   "metadata": {},
   "outputs": [
    {
     "name": "stdout",
     "output_type": "stream",
     "text": [
      "The p-value is  0.0032290142385893524\n"
     ]
    }
   ],
   "source": [
    "from scipy.stats import f_oneway\n",
    "\n",
    "# find the p-value\n",
    "test_stat, p_value=f_oneway(weightloss_diet_A, weightloss_diet_B, weightloss_diet_C) \n",
    "print('The p-value is ', p_value)\n"
   ]
  },
  {
   "cell_type": "code",
   "execution_count": 23,
   "id": "2e9ed04c-2e4c-4256-8fd1-e35e05fae9c5",
   "metadata": {},
   "outputs": [
    {
     "name": "stdout",
     "output_type": "stream",
     "text": [
      "As the p-value 0.0032290142385893524 is less than the level of significance, we reject the reject the alternate hypothesis\n"
     ]
    }
   ],
   "source": [
    "if p_value < 0.05:\n",
    "    print(f'As the p-value {p_value} is less than the level of significance, we reject the reject the alternate hypothesis')\n",
    "else:\n",
    "    print(f'As the p-value {p_value} is greater than the level of significance, we fail to reject the alternate hypothesis')\n"
   ]
  },
  {
   "cell_type": "markdown",
   "id": "6b9bacc7-0a51-4345-a9ad-dec588ff8f4e",
   "metadata": {},
   "source": [
    "##### Inference\n",
    "##### Since the p-value is less than the level of significance (5%), we reject the null hypothesis. Hence, we have enough statistical evidence to say that at least one of the mean weight losses with respect to the three diet-plans is different"
   ]
  },
  {
   "cell_type": "markdown",
   "id": "f1c5736b-559f-4014-a82e-ca112b2e61bf",
   "metadata": {},
   "source": [
    "##### Hypothesis-2\n",
    "##### h0=The mean weight loss wrt each age category is equal\n",
    "##### h1=At least one of the weigh loss wrt to the three age category is diffrent"
   ]
  },
  {
   "cell_type": "code",
   "execution_count": 24,
   "id": "e25706a1-c71a-4fb9-8277-7e7364827c03",
   "metadata": {},
   "outputs": [
    {
     "name": "stdout",
     "output_type": "stream",
     "text": [
      "The p-value is 0.12538330776005183\n"
     ]
    }
   ],
   "source": [
    "#Using Levene test on null hypothesis\n",
    "statistic,  p_value=stats.levene(df[df['age_category']=='40+']['weight_loss'],\n",
    "df[df['age_category']=='25-40'] ['weight_loss'], df[df['age_category']=='18-25'] ['weight_loss'])\n",
    "print('The p-value is', p_value)"
   ]
  },
  {
   "cell_type": "markdown",
   "id": "6d86a823-065a-4fd4-99c8-40b6fb1b6e59",
   "metadata": {},
   "source": [
    "##### Since the p-value is large than the 5% significance level, we fail to reject the null hypothesis of homogeneity of variances"
   ]
  },
  {
   "cell_type": "code",
   "execution_count": 25,
   "id": "1cbb82ef-debb-46df-94ea-ff3f983db965",
   "metadata": {},
   "outputs": [],
   "source": [
    "#Significance level is 0.05\n",
    "#Collecting and preparing data\n",
    "weightloss_Elderly=df[df['age_category']=='40+']['weight_loss']\n",
    "weightloss_Middle_aged=df[df['age_category']=='25-40']['weight_loss'] \n",
    "weightloss_Young=df[df['age_category']=='18-25']['weight_loss']\n"
   ]
  },
  {
   "cell_type": "code",
   "execution_count": 27,
   "id": "f05e01bd-1ccc-49a6-91ae-402c52792e43",
   "metadata": {},
   "outputs": [
    {
     "name": "stdout",
     "output_type": "stream",
     "text": [
      "The p-value is  0.05544168556142372\n"
     ]
    }
   ],
   "source": [
    "#We will use the f_oneway() function from the scipy. stats library to perform a one-way ANOVA test.\n",
    "from scipy.stats import f_oneway\n",
    "\n",
    "# find the p-value\n",
    "test_stat, p_value=f_oneway(weightloss_Elderly, weightloss_Middle_aged, weightloss_Young) \n",
    "print('The p-value is ', p_value)\n"
   ]
  },
  {
   "cell_type": "code",
   "execution_count": 28,
   "id": "b91e99a1-bdec-4e51-9374-a756a92250da",
   "metadata": {},
   "outputs": [
    {
     "name": "stdout",
     "output_type": "stream",
     "text": [
      "As the p-value 0.05544168556142372 is greater than the level of significance, we fail to reject the null hypothesis\n"
     ]
    }
   ],
   "source": [
    "# print the conclusion based on p-value \n",
    "if p_value < 0.05:\n",
    "    print(f'As the p-value {p_value} is less than the level of significance, we reject the null hypothesis')\n",
    "else:\n",
    "    print(f'As the p-value {p_value} is greater than the level of significance, we fail to reject the null hypothesis')"
   ]
  },
  {
   "cell_type": "markdown",
   "id": "5ff8e9af-b042-4673-b4b1-dc9e54d671bc",
   "metadata": {},
   "source": [
    "##### Inference\n",
    "##### Since the p-value is greater than the level of significance (5%), we fail to reject the null hypothesis. Hence, we have do not enough statistical evidence to conclude that the mean weight losses is different for at least one age category."
   ]
  },
  {
   "cell_type": "markdown",
   "id": "4d732132-00f7-4d8a-99a7-fb86c43234e9",
   "metadata": {},
   "source": [
    "##### Hypothesis-3\n",
    "##### Define null and alternative hypotheses for Two-Way ANONA\n",
    "##### h0=The effect of d1et on we1ght_1oss does not depend on the effect of the age_category variable (a.k.a. no interaction effect)\n",
    "##### h1=There is an interaction effect between diet and age_category on weight_1oss .\n",
    "##### Significance level is 0.05\n",
    "\n"
   ]
  },
  {
   "cell_type": "code",
   "execution_count": 31,
   "id": "d3ea3fa2-fa0b-4c43-b4d9-fa42737b2f4a",
   "metadata": {},
   "outputs": [
    {
     "name": "stderr",
     "output_type": "stream",
     "text": [
      "C:\\Users\\PREMRENA\\Anaconda\\Lib\\site-packages\\statsmodels\\graphics\\factorplots.py:113: FutureWarning: The provided callable <function mean at 0x000001CE00EB58A0> is currently using DataFrameGroupBy.mean. In a future version of pandas, the provided callable will be used directly. To keep current behavior pass the string \"mean\" instead.\n",
      "  plot_data = data.groupby(['trace', 'x']).aggregate(func).reset_index()\n"
     ]
    },
    {
     "data": {
      "image/png": "[encoded data removed]",
      "text/plain": [
       "<Figure size 640x480 with 1 Axes>"
      ]
     },
     "execution_count": 31,
     "metadata": {},
     "output_type": "execute_result"
    },
    {
     "data": {
      "image/png": "[encoded data removed]",
      "text/plain": [
       "<Figure size 640x480 with 1 Axes>"
      ]
     },
     "metadata": {},
     "output_type": "display_data"
    }
   ],
   "source": [
    "#Checking for Interaction effect\n",
    "from statsmodels.graphics.factorplots import interaction_plot \n",
    "interaction_plot(np.array(df['diet']),np.array(df['age_category']),np.array(df['weight_loss']))"
   ]
  },
  {
   "cell_type": "markdown",
   "id": "e06abdd3-3d54-4f10-8f69-ae05d0e899d3",
   "metadata": {},
   "source": [
    "##### •\tWe can see that there is some sort of interaction between the d1et and age_category ."
   ]
  },
  {
   "cell_type": "code",
   "execution_count": 35,
   "id": "f2041499-f192-4030-b1d9-d24768b83fe4",
   "metadata": {},
   "outputs": [
    {
     "data": {
      "text/html": [
       "<div>\n",
       "<style scoped>\n",
       "    .dataframe tbody tr th:only-of-type {\n",
       "        vertical-align: middle;\n",
       "    }\n",
       "\n",
       "    .dataframe tbody tr th {\n",
       "        vertical-align: top;\n",
       "    }\n",
       "\n",
       "    .dataframe thead th {\n",
       "        text-align: right;\n",
       "    }\n",
       "</style>\n",
       "<table border=\"1\" class=\"dataframe\">\n",
       "  <thead>\n",
       "    <tr style=\"text-align: right;\">\n",
       "      <th></th>\n",
       "      <th>df</th>\n",
       "      <th>sum_sq</th>\n",
       "      <th>mean_sq</th>\n",
       "      <th>F</th>\n",
       "      <th>PR(&gt;F)</th>\n",
       "    </tr>\n",
       "  </thead>\n",
       "  <tbody>\n",
       "    <tr>\n",
       "      <th>C(diet)</th>\n",
       "      <td>2.0</td>\n",
       "      <td>71.093689</td>\n",
       "      <td>35.546845</td>\n",
       "      <td>6.399140</td>\n",
       "      <td>0.002822</td>\n",
       "    </tr>\n",
       "    <tr>\n",
       "      <th>C(age_category)</th>\n",
       "      <td>2.0</td>\n",
       "      <td>17.498000</td>\n",
       "      <td>8.749000</td>\n",
       "      <td>1.574994</td>\n",
       "      <td>0.214359</td>\n",
       "    </tr>\n",
       "    <tr>\n",
       "      <th>C(diet):C(age_category)</th>\n",
       "      <td>4.0</td>\n",
       "      <td>29.390330</td>\n",
       "      <td>7.347582</td>\n",
       "      <td>1.322711</td>\n",
       "      <td>0.270226</td>\n",
       "    </tr>\n",
       "    <tr>\n",
       "      <th>Residual</th>\n",
       "      <td>69.0</td>\n",
       "      <td>383.290930</td>\n",
       "      <td>5.554941</td>\n",
       "      <td>NaN</td>\n",
       "      <td>NaN</td>\n",
       "    </tr>\n",
       "  </tbody>\n",
       "</table>\n",
       "</div>"
      ],
      "text/plain": [
       "                           df      sum_sq    mean_sq         F    PR(>F)\n",
       "C(diet)                   2.0   71.093689  35.546845  6.399140  0.002822\n",
       "C(age_category)           2.0   17.498000   8.749000  1.574994  0.214359\n",
       "C(diet):C(age_category)   4.0   29.390330   7.347582  1.322711  0.270226\n",
       "Residual                 69.0  383.290930   5.554941       NaN       NaN"
      ]
     },
     "execution_count": 35,
     "metadata": {},
     "output_type": "execute_result"
    }
   ],
   "source": [
    "#Calculate the p-value\n",
    "formula = 'weight_loss ~ C(diet) + C(age_category) + C(diet) :C(age_category) ' \n",
    "model = ols(formula, df).fit()\n",
    "aov_table = anova_lm(model) \n",
    "(aov_table)\n"
   ]
  },
  {
   "cell_type": "code",
   "execution_count": 39,
   "id": "dd3d736d-b8e8-4cb7-8102-3cc28c01411e",
   "metadata": {},
   "outputs": [
    {
     "name": "stdout",
     "output_type": "stream",
     "text": [
      "As the p-value 0.2702264784075801 is greater than the level of significance, fail to reject the null hypothesis\n"
     ]
    }
   ],
   "source": [
    "#Compare the p-value with a\n",
    "row_name ='C(diet):C(age_category)' \n",
    "p_value_interaction=aov_table.loc[row_name, 'PR(>F)']\n",
    "# print the conclusion based on p-value \n",
    "if p_value_interaction <0.05:\n",
    "    print(f'As the p-value {p_value_interaction} is less than the level of significance, we reject the alternate hypothesis')\n",
    "else:\n",
    "    print(f'As the p-value {p_value_interaction} is greater than the level of significance, fail to reject the null hypothesis')\n"
   ]
  },
  {
   "cell_type": "code",
   "execution_count": null,
   "id": "ac28513e-6f2b-451a-905f-23a18d3052d9",
   "metadata": {},
   "outputs": [],
   "source": []
  }
 ],
 "metadata": {
  "kernelspec": {
   "display_name": "Python 3 (ipykernel)",
   "language": "python",
   "name": "python3"
  },
  "language_info": {
   "codemirror_mode": {
    "name": "ipython",
    "version": 3
   },
   "file_extension": ".py",
   "mimetype": "text/x-python",
   "name": "python",
   "nbconvert_exporter": "python",
   "pygments_lexer": "ipython3",
   "version": "3.11.7"
  }
 },
 "nbformat": 4,
 "nbformat_minor": 5
}
